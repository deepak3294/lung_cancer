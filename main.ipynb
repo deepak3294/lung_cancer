{
 "cells": [
  {
   "cell_type": "code",
   "execution_count": 1,
   "id": "f90d3abf",
   "metadata": {},
   "outputs": [],
   "source": [
    "import pandas as pd\n",
    "from sklearn.model_selection import train_test_split\n",
    "from sklearn.ensemble import RandomForestClassifier\n",
    "from sklearn.metrics import accuracy_score, classification_report\n",
    "from sklearn.preprocessing import OneHotEncoder\n",
    "from sklearn.compose import ColumnTransformer\n",
    "from sklearn.impute import SimpleImputer"
   ]
  },
  {
   "cell_type": "code",
   "execution_count": 2,
   "id": "756af74d",
   "metadata": {},
   "outputs": [],
   "source": [
    "# Load dataset\n",
    "df = pd.read_csv(\"dataset_med.csv\")"
   ]
  },
  {
   "cell_type": "code",
   "execution_count": 3,
   "id": "13568bd3",
   "metadata": {
    "lines_to_next_cell": 2
   },
   "outputs": [
    {
     "name": "stdout",
     "output_type": "stream",
     "text": [
      "Data loaded and treatment duration calculated.\n"
     ]
    }
   ],
   "source": [
    "# Convert dates into numeric duration\n",
    "df[\"diagnosis_date\"] = pd.to_datetime(df[\"diagnosis_date\"])\n",
    "df[\"end_treatment_date\"] = pd.to_datetime(df[\"end_treatment_date\"])\n",
    "df[\"treatment_duration\"] = (df[\"end_treatment_date\"] - df[\"diagnosis_date\"]).dt.days\n",
    "df = df.drop([\"diagnosis_date\", \"end_treatment_date\"], axis=1)\n",
    "print(\"Data loaded and treatment duration calculated.\")"
   ]
  },
  {
   "cell_type": "code",
   "execution_count": 4,
   "id": "0c5ba6b9",
   "metadata": {},
   "outputs": [],
   "source": [
    "# Features and target\n",
    "X = df.drop([\"survived\"], axis=1)\n",
    "y = df[\"survived\"]"
   ]
  },
  {
   "cell_type": "code",
   "execution_count": 5,
   "id": "8517e15c",
   "metadata": {
    "lines_to_next_cell": 2
   },
   "outputs": [],
   "source": [
    "# Identify categorical & numeric columns\n",
    "cat_cols = X.select_dtypes(include=[\"object\"]).columns\n",
    "num_cols = X.select_dtypes(include=[\"int64\", \"float64\"]).columns"
   ]
  },
  {
   "cell_type": "code",
   "execution_count": 6,
   "id": "ee446dcb",
   "metadata": {
    "lines_to_next_cell": 2
   },
   "outputs": [
    {
     "name": "stdout",
     "output_type": "stream",
     "text": [
      "Data preprocessed and features transformed.\n"
     ]
    }
   ],
   "source": [
    "# Preprocessing: impute + one-hot encode\n",
    "preprocessor = ColumnTransformer(\n",
    "    transformers=[\n",
    "        (\"num\", SimpleImputer(strategy=\"median\"), num_cols),\n",
    "        (\"cat\", OneHotEncoder(handle_unknown=\"ignore\"), cat_cols)\n",
    "    ]\n",
    ")\n",
    "X_preprocessed = preprocessor.fit_transform(X)\n",
    "print(\"Data preprocessed and features transformed.\")"
   ]
  },
  {
   "cell_type": "code",
   "execution_count": 7,
   "id": "ec295bef",
   "metadata": {
    "lines_to_next_cell": 2
   },
   "outputs": [],
   "source": [
    "# Train-Test Split\n",
    "X_train, X_test, y_train, y_test = train_test_split(\n",
    "    X_preprocessed, y, test_size=0.2, random_state=42\n",
    ")"
   ]
  },
  {
   "cell_type": "code",
   "execution_count": 8,
   "id": "d2aa7444",
   "metadata": {},
   "outputs": [
    {
     "name": "stdout",
     "output_type": "stream",
     "text": [
      "Training the RandomForest model...\n"
     ]
    }
   ],
   "source": [
    "print(\"Training the RandomForest model...\")"
   ]
  },
  {
   "cell_type": "code",
   "execution_count": 9,
   "id": "766cf6ae",
   "metadata": {},
   "outputs": [],
   "source": [
    "model = RandomForestClassifier(\n",
    "    class_weight=\"balanced\", \n",
    "    random_state=42,\n",
    "    n_estimators=150,    # INCREASED from 30\n",
    "    max_depth=10,        # INCREASED from 5\n",
    "    n_jobs=-1\n",
    ")"
   ]
  },
  {
   "cell_type": "code",
   "execution_count": 10,
   "id": "c0c91b8d",
   "metadata": {
    "lines_to_next_cell": 2
   },
   "outputs": [
    {
     "name": "stdout",
     "output_type": "stream",
     "text": [
      "Training complete.\n"
     ]
    }
   ],
   "source": [
    "# Train on the original (unresampled) training set\n",
    "model.fit(X_train, y_train)\n",
    "print(\"Training complete.\")"
   ]
  },
  {
   "cell_type": "code",
   "execution_count": 11,
   "id": "40a4c1a3",
   "metadata": {
    "lines_to_next_cell": 2
   },
   "outputs": [
    {
     "name": "stdout",
     "output_type": "stream",
     "text": [
      "\n",
      "--- Model Evaluation --\n",
      "Accuracy: 0.5459887640449438\n",
      "              precision    recall  f1-score   support\n",
      "\n",
      "           0       0.78      0.58      0.67    138639\n",
      "           1       0.22      0.43      0.29     39361\n",
      "\n",
      "    accuracy                           0.55    178000\n",
      "   macro avg       0.50      0.50      0.48    178000\n",
      "weighted avg       0.66      0.55      0.58    178000\n",
      "\n"
     ]
    }
   ],
   "source": [
    "# Prediction on test set\n",
    "y_pred = model.predict(X_test)\n",
    "print(\"\\n--- Model Evaluation --\")\n",
    "print(\"Accuracy:\", accuracy_score(y_test, y_pred))\n",
    "print(classification_report(y_test, y_pred))"
   ]
  },
  {
   "cell_type": "code",
   "execution_count": 12,
   "id": "ba145a06",
   "metadata": {
    "lines_to_next_cell": 2
   },
   "outputs": [],
   "source": [
    "# Predict new patient\n",
    "new_patient = pd.DataFrame([{\n",
    "    \"id\": 22474,\n",
    "    \"age\": 65,\n",
    "    \"asthma\":0,\n",
    "    \"cancer_stage\": \"Stage I\",\n",
    "    \"gender\": \"Male\",\n",
    "    \"country\": \"Sweden\",\n",
    "    \"stage\": \"Stage I\",\n",
    "    \"family_history\": \"Yes\",\n",
    "    \"smoking_status\": \"Passive Smoker\",\n",
    "    \"bmi\": 29.4,\n",
    "    \"cholesterol_level\": 199,\n",
    "    \"bp_high\": 0,\n",
    "    \"bp_low\": 0,\n",
    "    \"diabetes\": 1,\n",
    "    \"cirrhosis\": 1,\n",
    "    \"other_cancer\":1,\n",
    "    \"hypertension\": 0,\n",
    "    \"treatment_type\": \"Chemotherapy\",\n",
    "    \"diagnosis_date\": \"2016-04-05\",\n",
    "    \"end_treatment_date\": \"2017-09-10\"\n",
    "}])"
   ]
  },
  {
   "cell_type": "code",
   "execution_count": 13,
   "id": "0d0b40f4",
   "metadata": {},
   "outputs": [],
   "source": [
    "# Process new patient dates\n",
    "new_patient[\"diagnosis_date\"] = pd.to_datetime(new_patient[\"diagnosis_date\"])\n",
    "new_patient[\"end_treatment_date\"] = pd.to_datetime(new_patient[\"end_treatment_date\"])\n",
    "new_patient[\"treatment_duration\"] = (new_patient[\"end_treatment_date\"] - new_patient[\"diagnosis_date\"]).dt.days\n",
    "new_patient = new_patient.drop([\"diagnosis_date\", \"end_treatment_date\"], axis=1)"
   ]
  },
  {
   "cell_type": "code",
   "execution_count": 14,
   "id": "7af0666d",
   "metadata": {
    "lines_to_next_cell": 2
   },
   "outputs": [],
   "source": [
    "# Transform new patient data using the preprocessor\n",
    "new_patient_preprocessed = preprocessor.transform(new_patient)"
   ]
  },
  {
   "cell_type": "code",
   "execution_count": 15,
   "id": "d8d1024d",
   "metadata": {},
   "outputs": [
    {
     "name": "stdout",
     "output_type": "stream",
     "text": [
      "\n",
      "--- New Patient Prediction ---\n",
      "Prediction: Survived\n"
     ]
    }
   ],
   "source": [
    "# Predict survival\n",
    "pred = model.predict(new_patient_preprocessed)\n",
    "print(\"\\n--- New Patient Prediction ---\")\n",
    "print(\"Prediction:\", \"Survived\" if pred[0] == 0 else \"Not Survived\")"
   ]
  }
 ],
 "metadata": {
  "jupytext": {
   "cell_metadata_filter": "-all",
   "main_language": "python",
   "notebook_metadata_filter": "-all"
  },
  "kernelspec": {
   "display_name": ".venv",
   "language": "python",
   "name": "python3"
  },
  "language_info": {
   "codemirror_mode": {
    "name": "ipython",
    "version": 3
   },
   "file_extension": ".py",
   "mimetype": "text/x-python",
   "name": "python",
   "nbconvert_exporter": "python",
   "pygments_lexer": "ipython3",
   "version": "3.13.5"
  }
 },
 "nbformat": 4,
 "nbformat_minor": 5
}
